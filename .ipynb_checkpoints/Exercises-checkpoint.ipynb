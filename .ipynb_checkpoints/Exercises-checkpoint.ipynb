{
 "cells": [
  {
   "cell_type": "markdown",
   "metadata": {},
   "source": [
    "#### Exercise 1 - Class Inheritance"
   ]
  },
  {
   "cell_type": "markdown",
   "metadata": {},
   "source": [
    "Create an Employee class that sets an employee's first name, last name, job title, salary, and email. The Employee class should have a class attribute for the raise amount set to 5% (1.05). Create a method that will apply the raise to an employee's salary."
   ]
  },
  {
   "cell_type": "code",
   "execution_count": 7,
   "metadata": {},
   "outputs": [],
   "source": [
    "# Parent Employee Class\n",
    "class Employee:\n",
    "    raise_amount = 1.05  # Class Attribute to raise salary 5%\n",
    "\n",
    "    employee_list = {}\n",
    "\n",
    "    def __init__(self, first, last, Job_title, salary, email):\n",
    "        self.first_name = first\n",
    "        self.last_name = last\n",
    "        self.salary = salary\n",
    "        self.Job_title = Job_title\n",
    "        self.email = email\n",
    "\n",
    "    def get_full_name(self):\n",
    "        return f\"{self.first_name.title()} {self.last_name.title()}\"\n",
    "\n",
    "    def apply_raise(self):\n",
    "        self.salary = self.salary * self.raise_amount\n",
    "        print(f\"Congrats {self.get_full_name()}, you have received a raise and your new salary is {self.salary}\")\n",
    "\n",
    "\n",
    "emp_1 = Employee('Ray', 'Charles', 'Engineer', 120000, 'rcharles@gmail.com')\n",
    "emp_2 = Employee('Joe', 'Normand', 'Developer', 100000, 'rjoes@gmail.com')\n",
    "\n",
    "\n",
    "\n"
   ]
  },
  {
   "cell_type": "markdown",
   "metadata": {},
   "source": [
    "Create two more classes that inherit from the Employee class. One for Sales and one for Development. Both of these classes will have the same attributes as the Employee.<br>\n",
    "- For the Sales employees, add a phone number attribute on instantiation using the super method. \n",
    "- Create a method on the Sales class that will Send a Follow Up Email. It should take in a customer name and \"send\" aka print a formatted email \"Dear *customer*, Thank you for your interest in our product. Please let me know if you have any questions. My email is *email* or my phone number is *phone number*. Thanks, *full name*\"\n",
    "- Create a method on the Development class called code that will print out \"*full name* is writing code\"."
   ]
  },
  {
   "cell_type": "code",
   "execution_count": 1,
   "metadata": {},
   "outputs": [
    {
     "data": {
      "text/plain": [
       "'Congrats Ray Charles, you have received a raise and your new salary is 126000.0'"
      ]
     },
     "execution_count": 1,
     "metadata": {},
     "output_type": "execute_result"
    }
   ],
   "source": [
    "# Two Children classes - Sales + Development\n",
    "# Parent Employee Class\n",
    "class Employee:\n",
    "    raise_amount = 1.05  # Class Attribute to raise salary 5%\n",
    "\n",
    "    employee_list = {}\n",
    "\n",
    "    def __init__(self, first, last, job_title, salary, email):\n",
    "        self.first_name = first\n",
    "        self.last_name = last\n",
    "        self.salary = salary\n",
    "        self.Job_title = job_title\n",
    "        self.email = email\n",
    "\n",
    "    def get_full_name(self):\n",
    "        return f\"{self.first_name.title()} {self.last_name.title()}\"\n",
    "\n",
    "    def apply_raise(self):\n",
    "        self.salary = self.salary * self.raise_amount\n",
    "        return(\n",
    "            f\"Congrats {self.get_full_name()}, you have received a raise and your new salary is {self.salary}\")\n",
    "\n",
    "\n",
    "class Sales(Employee):\n",
    "    def __init__(self, first, last, job_title, salary, email, phone):\n",
    "        super().__init__(self, first,  last, job_title, salary, email,)\n",
    "        self.phone = phone\n",
    "\n",
    "    def send_mail(self, customer_name):\n",
    "        print(f\"\"\"\n",
    "        Dear {customer_name}, Thank you for your interest in our product. Please let me know if you have any questions. My email is {self.email} or my phone number is {self.phone}. Thanks, {self.get_full_name()}.\n",
    "        \"\"\")\n",
    "\n",
    "\n",
    "class Development(Employee):\n",
    "    def __init__(self, first, last, job_title, salary, email, phone):\n",
    "        super().__init__(first, last, job_title, salary, email, phone)\n",
    "\n",
    "    def code_it(self):\n",
    "        print(f\"{self.get_full_name()} is writing code.\")\n",
    "\n",
    "\n",
    "emp_1 = Employee('Ray', 'Charles', 'Engineer', 120000, 'rcharles@gmail.com')\n",
    "emp_2 = Employee('Joe', 'Normand', 'Developer', 100000, 'rjoes@gmail.com')\n",
    "\n",
    "\n",
    "emp_1.apply_raise()\n",
    "\n",
    "\n"
   ]
  },
  {
   "cell_type": "markdown",
   "metadata": {},
   "source": [
    "- Create an instance of a Sales Employee with a salary of $50,000.\n",
    "- Send follow up emails to \"Mike O'Neil\" and \"Hannah Stern\"\n",
    "- Give the employee a raise and print the salary"
   ]
  },
  {
   "cell_type": "code",
   "execution_count": null,
   "metadata": {},
   "outputs": [],
   "source": []
  },
  {
   "cell_type": "markdown",
   "metadata": {},
   "source": [
    "- Create an instance of a Development Employee with a salary of $100,000\n",
    "- Write some code with this employee\n",
    "- Give the employee a raise and print the salary"
   ]
  },
  {
   "cell_type": "code",
   "execution_count": null,
   "metadata": {},
   "outputs": [],
   "source": []
  },
  {
   "cell_type": "markdown",
   "metadata": {},
   "source": [
    "#### Exercise 2 - Importing Modules"
   ]
  },
  {
   "cell_type": "markdown",
   "metadata": {},
   "source": [
    "In VS Code, create a module titled `geometry` and add two functions in there. One that will calculate the area of a circle given a radius. The second will find the hypotenuse of a right angle given the two sides. Import the module or the functions from the module and use it to find the answers to the below questions"
   ]
  },
  {
   "cell_type": "code",
   "execution_count": 3,
   "metadata": {},
   "outputs": [],
   "source": [
    "import math\n",
    "\n",
    "def calculate_area(radius):\n",
    "    area = math.pi * radius ** 2\n",
    "    return area\n",
    "\n",
    "\n",
    "def calculate_hypotenuse(radius1, radius2):\n",
    "    hypotenuse = math.sqrt(radius1 ** 2 + radius2 ** 2)\n",
    "    return hypotenuse\n",
    "\n",
    "\n",
    "\n",
    "\n",
    "    "
   ]
  },
  {
   "cell_type": "markdown",
   "metadata": {},
   "source": [
    "What is the area of a circle with a radius of 7cm?"
   ]
  },
  {
   "cell_type": "code",
   "execution_count": 4,
   "metadata": {},
   "outputs": [
    {
     "data": {
      "text/plain": [
       "153.93804002589985"
      ]
     },
     "execution_count": 4,
     "metadata": {},
     "output_type": "execute_result"
    }
   ],
   "source": [
    "# 153.93804002589985\n",
    "\n",
    "calculate_area(7)\n"
   ]
  },
  {
   "cell_type": "markdown",
   "metadata": {},
   "source": [
    "What is the hypotenuse of a right angle with sides of 3in and 4in?"
   ]
  },
  {
   "cell_type": "code",
   "execution_count": 5,
   "metadata": {},
   "outputs": [
    {
     "data": {
      "text/plain": [
       "5.0"
      ]
     },
     "execution_count": 5,
     "metadata": {},
     "output_type": "execute_result"
    }
   ],
   "source": [
    "# 5 in\n",
    "calculate_hypotenuse(3, 4)"
   ]
  }
 ],
 "metadata": {
  "kernelspec": {
   "display_name": "Python 3 (ipykernel)",
   "language": "python",
   "name": "python3"
  },
  "language_info": {
   "codemirror_mode": {
    "name": "ipython",
    "version": 3
   },
   "file_extension": ".py",
   "mimetype": "text/x-python",
   "name": "python",
   "nbconvert_exporter": "python",
   "pygments_lexer": "ipython3",
   "version": "3.9.13"
  },
  "vscode": {
   "interpreter": {
    "hash": "aee8b7b246df8f9039afb4144a1f6fd8d2ca17a180786b69acc140d282b71a49"
   }
  }
 },
 "nbformat": 4,
 "nbformat_minor": 4
}
