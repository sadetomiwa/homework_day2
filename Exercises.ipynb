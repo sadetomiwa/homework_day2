{
 "cells": [
  {
   "cell_type": "markdown",
   "metadata": {},
   "source": [
    "#### Exercise 1 - Class Inheritance"
   ]
  },
  {
   "cell_type": "markdown",
   "metadata": {},
   "source": [
    "Create an Employee class that sets an employee's first name, last name, job title, salary, and email. The Employee class should have a class attribute for the raise amount set to 5% (1.05). Create a method that will apply the raise to an employee's salary."
   ]
  },
  {
   "cell_type": "code",
   "execution_count": 7,
   "metadata": {},
   "outputs": [],
   "source": [
    "# Parent Employee Class\n",
    "class Employee:\n",
    "    raise_amount = 1.05  # Class Attribute to raise salary 5%\n",
    "\n",
    "    employee_list = {}\n",
    "\n",
    "    def __init__(self, first, last, Job_title, salary, email):\n",
    "        self.first_name = first\n",
    "        self.last_name = last\n",
    "        self.salary = salary\n",
    "        self.Job_title = Job_title\n",
    "        self.email = email\n",
    "\n",
    "    def get_full_name(self):\n",
    "        return f\"{self.first_name.title()} {self.last_name.title()}\"\n",
    "\n",
    "    def apply_raise(self):\n",
    "        self.salary = self.salary * self.raise_amount\n",
    "        print(f\"Congrats {self.get_full_name()}, you have received a raise and your new salary is {self.salary}\")\n",
    "\n",
    "\n",
    "emp_1 = Employee('Ray', 'Charles', 'Engineer', 120000, 'rcharles@gmail.com')\n",
    "emp_2 = Employee('Joe', 'Normand', 'Developer', 100000, 'rjoes@gmail.com')\n",
    "\n",
    "\n",
    "\n"
   ]
  },
  {
   "cell_type": "markdown",
   "metadata": {},
   "source": [
    "Create two more classes that inherit from the Employee class. One for Sales and one for Development. Both of these classes will have the same attributes as the Employee.<br>\n",
    "- For the Sales employees, add a phone number attribute on instantiation using the super method. \n",
    "- Create a method on the Sales class that will Send a Follow Up Email. It should take in a customer name and \"send\" aka print a formatted email \"Dear *customer*, Thank you for your interest in our product. Please let me know if you have any questions. My email is *email* or my phone number is *phone number*. Thanks, *full name*\"\n",
    "- Create a method on the Development class called code that will print out \"*full name* is writing code\"."
   ]
  },
  {
   "cell_type": "code",
   "execution_count": 51,
   "metadata": {},
   "outputs": [
    {
     "name": "stdout",
     "output_type": "stream",
     "text": [
      "Ray Charles is writing code.\n",
      "Names\n"
     ]
    },
    {
     "ename": "AttributeError",
     "evalue": "'str' object has no attribute 'phone'",
     "output_type": "error",
     "traceback": [
      "\u001b[0;31m---------------------------------------------------------------------------\u001b[0m",
      "\u001b[0;31mAttributeError\u001b[0m                            Traceback (most recent call last)",
      "\u001b[0;32m/var/folders/sv/6czydd7x1lz2c7mpxwtv4s_r0000gn/T/ipykernel_44753/2382368754.py\u001b[0m in \u001b[0;36m<module>\u001b[0;34m\u001b[0m\n\u001b[1;32m     47\u001b[0m \u001b[0mDevelopment\u001b[0m\u001b[0;34m.\u001b[0m\u001b[0mcode_it\u001b[0m\u001b[0;34m(\u001b[0m\u001b[0memp_1\u001b[0m\u001b[0;34m)\u001b[0m\u001b[0;34m\u001b[0m\u001b[0;34m\u001b[0m\u001b[0m\n\u001b[1;32m     48\u001b[0m \u001b[0;34m\u001b[0m\u001b[0m\n\u001b[0;32m---> 49\u001b[0;31m \u001b[0mSales\u001b[0m\u001b[0;34m.\u001b[0m\u001b[0msend_mail\u001b[0m\u001b[0;34m(\u001b[0m\u001b[0;34m\"Mike O 'Neil\"\u001b[0m\u001b[0;34m,\u001b[0m \u001b[0;34m'steve'\u001b[0m\u001b[0;34m)\u001b[0m\u001b[0;34m\u001b[0m\u001b[0;34m\u001b[0m\u001b[0m\n\u001b[0m\u001b[1;32m     50\u001b[0m \u001b[0;34m\u001b[0m\u001b[0m\n",
      "\u001b[0;32m/var/folders/sv/6czydd7x1lz2c7mpxwtv4s_r0000gn/T/ipykernel_44753/2382368754.py\u001b[0m in \u001b[0;36msend_mail\u001b[0;34m(self, customer_name)\u001b[0m\n\u001b[1;32m     31\u001b[0m \u001b[0;34m\u001b[0m\u001b[0m\n\u001b[1;32m     32\u001b[0m         print(f\"\"\"\n\u001b[0;32m---> 33\u001b[0;31m         \u001b[0mDear\u001b[0m \u001b[0;34m{\u001b[0m\u001b[0mcustomer_name\u001b[0m\u001b[0;34m}\u001b[0m\u001b[0;34m,\u001b[0m \u001b[0mThank\u001b[0m \u001b[0myou\u001b[0m \u001b[0;32mfor\u001b[0m \u001b[0myour\u001b[0m \u001b[0minterest\u001b[0m \u001b[0;32min\u001b[0m \u001b[0mour\u001b[0m \u001b[0mproduct\u001b[0m\u001b[0;34m.\u001b[0m \u001b[0mPlease\u001b[0m \u001b[0mlet\u001b[0m \u001b[0mme\u001b[0m \u001b[0mknow\u001b[0m \u001b[0;32mif\u001b[0m \u001b[0myou\u001b[0m \u001b[0mhave\u001b[0m \u001b[0many\u001b[0m \u001b[0mquestions\u001b[0m\u001b[0;34m.\u001b[0m \u001b[0mMy\u001b[0m \u001b[0memail\u001b[0m \u001b[0;32mis\u001b[0m \u001b[0;32mor\u001b[0m \u001b[0mmy\u001b[0m \u001b[0mphone\u001b[0m \u001b[0mnumber\u001b[0m \u001b[0;32mis\u001b[0m \u001b[0;34m{\u001b[0m\u001b[0mself\u001b[0m\u001b[0;34m.\u001b[0m\u001b[0mphone\u001b[0m\u001b[0;34m}\u001b[0m\u001b[0;34m.\u001b[0m \u001b[0mThanks\u001b[0m\u001b[0;34m,\u001b[0m \u001b[0;34m{\u001b[0m\u001b[0mself\u001b[0m\u001b[0;34m.\u001b[0m\u001b[0mget_full_name\u001b[0m\u001b[0;34m(\u001b[0m\u001b[0;34m)\u001b[0m\u001b[0;34m}\u001b[0m\u001b[0;34m.\u001b[0m\u001b[0;34m\u001b[0m\u001b[0;34m\u001b[0m\u001b[0m\n\u001b[0m\u001b[1;32m     34\u001b[0m         \"\"\")\n\u001b[1;32m     35\u001b[0m \u001b[0;34m\u001b[0m\u001b[0m\n",
      "\u001b[0;31mAttributeError\u001b[0m: 'str' object has no attribute 'phone'"
     ]
    }
   ],
   "source": [
    "# Two Children classes - Sales + Development\n",
    "# Parent Employee Class\n",
    "class Employee:\n",
    "    raise_amount = 1.05  # Class Attribute to raise salary 5%\n",
    "\n",
    "    employee_list = {}\n",
    "\n",
    "    def __init__(self, first, last, job_title, salary, email):\n",
    "        self.first_name = first\n",
    "        self.last_name = last\n",
    "        self.salary = salary\n",
    "        self.Job_title = job_title\n",
    "        self.email = email\n",
    "\n",
    "    def get_full_name(self):\n",
    "        return f\"{self.first_name.title()} {self.last_name.title()}\"\n",
    "\n",
    "    def apply_raise(self):\n",
    "        self.salary = self.salary * self.raise_amount\n",
    "        return(\n",
    "            f\"Congrats {self.get_full_name()}, you have received a raise and your new salary is {self.salary}\")\n",
    "\n",
    "\n",
    "class Sales (Employee):\n",
    "    def __init__(self, first, last, job_title, salary, email, phone):\n",
    "        super().__init__(self, first,  last, job_title, salary, email,)\n",
    "        self.phone = phone\n",
    "\n",
    "    def send_mail (self, customer_name):\n",
    "        customer_name = input('Name')\n",
    "       \n",
    "        print(f\"\"\"\n",
    "        Dear {customer_name}, Thank you for your interest in our product. Please let me know if you have any questions. My email is {self.email} or my phone number is {self.phone}. Thanks, {self.get_full_name()}.\n",
    "        \"\"\")\n",
    "\n",
    "\n",
    "class Development (Employee):\n",
    "    def __init__(self, first, last, job_title, salary, email, phone):\n",
    "        super().__init__(first, last, job_title, salary, email, phone)\n",
    "\n",
    "    def code_it(self):\n",
    "        print(f\"{self.get_full_name()} is writing code.\")\n",
    "\n",
    "emp_1 = Employee('Ray', 'Charles', 'Engineer', 120000, 'rcharles@gmail.com')\n",
    "emp_2 = Employee('Joe', 'Normand', 'Developer', 100000, 'rjoes@gmail.com')\n",
    "\n",
    "Development.code_it(emp_1)\n",
    "\n",
    "Sales.send_mail(\"Mike O 'Neil\", 'steve')\n",
    "\n"
   ]
  },
  {
   "cell_type": "markdown",
   "metadata": {},
   "source": [
    "- Create an instance of a Sales Employee with a salary of $50,000.\n",
    "- Send follow up emails to \"Mike O'Neil\" and \"Hannah Stern\"\n",
    "- Give the employee a raise and print the salary"
   ]
  },
  {
   "cell_type": "code",
   "execution_count": 26,
   "metadata": {},
   "outputs": [
    {
     "data": {
      "text/plain": [
       "120000"
      ]
     },
     "execution_count": 26,
     "metadata": {},
     "output_type": "execute_result"
    }
   ],
   "source": [
    "emp_1 = Employee('Ray', 'Charles', 'Engineer', 120000, 'rcharles@gmail.com')\n",
    "emp_1.salary\n",
    "\n"
   ]
  },
  {
   "cell_type": "code",
   "execution_count": null,
   "metadata": {},
   "outputs": [],
   "source": []
  },
  {
   "cell_type": "code",
   "execution_count": 25,
   "metadata": {},
   "outputs": [
    {
     "data": {
      "text/plain": [
       "'Congrats Ray Charles, you have received a raise and your new salary is 132300.0'"
      ]
     },
     "execution_count": 25,
     "metadata": {},
     "output_type": "execute_result"
    }
   ],
   "source": [
    "emp_1.apply_raise()"
   ]
  },
  {
   "cell_type": "markdown",
   "metadata": {},
   "source": [
    "- Create an instance of a Development Employee with a salary of $100,000\n",
    "- Write some code with this employee\n",
    "- Give the employee a raise and print the salary"
   ]
  },
  {
   "cell_type": "code",
   "execution_count": 27,
   "metadata": {},
   "outputs": [
    {
     "data": {
      "text/plain": [
       "100000"
      ]
     },
     "execution_count": 27,
     "metadata": {},
     "output_type": "execute_result"
    }
   ],
   "source": [
    "emp_2 = Employee('Joe', 'Normand', 'Developer', 100000, 'rjoes@gmail.com')\n",
    "emp_2.salary\n"
   ]
  },
  {
   "cell_type": "code",
   "execution_count": 38,
   "metadata": {},
   "outputs": [
    {
     "name": "stdout",
     "output_type": "stream",
     "text": [
      "Ray Charles is writing code.\n"
     ]
    }
   ],
   "source": [
    "Development.code_it(emp_1)"
   ]
  },
  {
   "cell_type": "code",
   "execution_count": 28,
   "metadata": {},
   "outputs": [
    {
     "data": {
      "text/plain": [
       "'Congrats Joe Normand, you have received a raise and your new salary is 105000.0'"
      ]
     },
     "execution_count": 28,
     "metadata": {},
     "output_type": "execute_result"
    }
   ],
   "source": [
    "emp_2.apply_raise()"
   ]
  },
  {
   "cell_type": "markdown",
   "metadata": {},
   "source": [
    "#### Exercise 2 - Importing Modules"
   ]
  },
  {
   "cell_type": "markdown",
   "metadata": {},
   "source": [
    "In VS Code, create a module titled `geometry` and add two functions in there. One that will calculate the area of a circle given a radius. The second will find the hypotenuse of a right angle given the two sides. Import the module or the functions from the module and use it to find the answers to the below questions"
   ]
  },
  {
   "cell_type": "code",
   "execution_count": 10,
   "metadata": {},
   "outputs": [
    {
     "name": "stdout",
     "output_type": "stream",
     "text": [
      "<module 'geometry' from '/Users/stevenadetomiwa/Documents/codingtemple-kekambas-111/week3/day2/Homework/geometry.py'>\n"
     ]
    }
   ],
   "source": [
    "import geometry\n",
    "\n",
    "print(geometry)"
   ]
  },
  {
   "cell_type": "markdown",
   "metadata": {},
   "source": [
    "What is the area of a circle with a radius of 7cm?"
   ]
  },
  {
   "cell_type": "code",
   "execution_count": 12,
   "metadata": {},
   "outputs": [
    {
     "data": {
      "text/plain": [
       "153.93804002589985"
      ]
     },
     "execution_count": 12,
     "metadata": {},
     "output_type": "execute_result"
    }
   ],
   "source": [
    "# 153.93804002589985\n",
    "geometry.calculate_area(7)\n",
    "\n"
   ]
  },
  {
   "cell_type": "markdown",
   "metadata": {},
   "source": [
    "What is the hypotenuse of a right angle with sides of 3in and 4in?"
   ]
  },
  {
   "cell_type": "code",
   "execution_count": 13,
   "metadata": {},
   "outputs": [
    {
     "data": {
      "text/plain": [
       "5.0"
      ]
     },
     "execution_count": 13,
     "metadata": {},
     "output_type": "execute_result"
    }
   ],
   "source": [
    "# 5 in\n",
    "geometry.calculate_hype(3,4)\n"
   ]
  }
 ],
 "metadata": {
  "kernelspec": {
   "display_name": "Python 3 (ipykernel)",
   "language": "python",
   "name": "python3"
  },
  "language_info": {
   "codemirror_mode": {
    "name": "ipython",
    "version": 3
   },
   "file_extension": ".py",
   "mimetype": "text/x-python",
   "name": "python",
   "nbconvert_exporter": "python",
   "pygments_lexer": "ipython3",
   "version": "3.9.13"
  },
  "vscode": {
   "interpreter": {
    "hash": "aee8b7b246df8f9039afb4144a1f6fd8d2ca17a180786b69acc140d282b71a49"
   }
  }
 },
 "nbformat": 4,
 "nbformat_minor": 4
}
